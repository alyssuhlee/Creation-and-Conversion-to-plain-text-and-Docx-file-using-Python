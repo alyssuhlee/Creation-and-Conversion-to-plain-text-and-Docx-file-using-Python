{
 "cells": [
  {
   "cell_type": "markdown",
   "metadata": {},
   "source": [
    "__PDF to Text (Plain Text)__"
   ]
  },
  {
   "cell_type": "code",
   "execution_count": 1,
   "metadata": {},
   "outputs": [
    {
     "name": "stdout",
     "output_type": "stream",
     "text": [
      "Defaulting to user installation because normal site-packages is not writeable\n",
      "Collecting PyPDF2\n",
      "  Downloading pypdf2-3.0.1-py3-none-any.whl (232 kB)\n",
      "                                              0.0/232.6 kB ? eta -:--:--\n",
      "     ------------------                     112.6/232.6 kB 2.2 MB/s eta 0:00:01\n",
      "     ------------------------------------   225.3/232.6 kB 2.3 MB/s eta 0:00:01\n",
      "     -------------------------------------- 232.6/232.6 kB 2.4 MB/s eta 0:00:00\n",
      "Installing collected packages: PyPDF2\n",
      "Successfully installed PyPDF2-3.0.1\n",
      "Note: you may need to restart the kernel to use updated packages.\n"
     ]
    },
    {
     "name": "stderr",
     "output_type": "stream",
     "text": [
      "\n",
      "[notice] A new release of pip is available: 23.1.2 -> 23.2.1\n",
      "[notice] To update, run: python.exe -m pip install --upgrade pip\n"
     ]
    }
   ],
   "source": [
    "pip install PyPDF2"
   ]
  },
  {
   "cell_type": "code",
   "execution_count": 6,
   "metadata": {},
   "outputs": [],
   "source": [
    "import PyPDF2\n",
    "\n",
    "pdf_file = open('sample.pdf', 'rb')\n",
    "reader = PyPDF2.PdfReader(pdf_file)\n",
    "\n",
    "with open('output.txt', 'w') as text_file:\n",
    "    for page_num in range(len(reader.pages)):\n",
    "        page = reader.pages[page_num]\n",
    "        text = page.extract_text()\n",
    "        text_file.write(text)\n",
    "\n",
    "pdf_file.close()"
   ]
  },
  {
   "cell_type": "markdown",
   "metadata": {},
   "source": [
    "__PDF to Word (docx)__"
   ]
  },
  {
   "cell_type": "code",
   "execution_count": 2,
   "metadata": {},
   "outputs": [
    {
     "name": "stdout",
     "output_type": "stream",
     "text": [
      "Note: you may need to restart the kernel to use updated packages.\n"
     ]
    },
    {
     "name": "stderr",
     "output_type": "stream",
     "text": [
      "\n",
      "[notice] A new release of pip is available: 23.1.2 -> 23.2.1\n",
      "[notice] To update, run: python.exe -m pip install --upgrade pip\n"
     ]
    },
    {
     "name": "stdout",
     "output_type": "stream",
     "text": [
      "Defaulting to user installation because normal site-packages is not writeable\n",
      "Collecting pdf2docx\n",
      "  Downloading pdf2docx-0.5.6-py3-none-any.whl (148 kB)\n",
      "                                              0.0/148.4 kB ? eta -:--:--\n",
      "     ----------------------------           112.6/148.4 kB 2.2 MB/s eta 0:00:01\n",
      "     -------------------------------------- 148.4/148.4 kB 1.8 MB/s eta 0:00:00\n",
      "Collecting PyMuPDF>=1.19.0 (from pdf2docx)\n",
      "  Downloading PyMuPDF-1.23.3-cp310-none-win_amd64.whl (3.5 MB)\n",
      "                                              0.0/3.5 MB ? eta -:--:--\n",
      "     --                                       0.2/3.5 MB 5.8 MB/s eta 0:00:01\n",
      "     ----                                     0.4/3.5 MB 6.3 MB/s eta 0:00:01\n",
      "     -------                                  0.7/3.5 MB 6.1 MB/s eta 0:00:01\n",
      "     ----------                               0.9/3.5 MB 5.9 MB/s eta 0:00:01\n",
      "     -------------                            1.1/3.5 MB 5.9 MB/s eta 0:00:01\n",
      "     ----------------                         1.4/3.5 MB 6.4 MB/s eta 0:00:01\n",
      "     -------------------                      1.7/3.5 MB 6.4 MB/s eta 0:00:01\n",
      "     -----------------------                  2.0/3.5 MB 6.4 MB/s eta 0:00:01\n",
      "     -------------------------                2.2/3.5 MB 6.3 MB/s eta 0:00:01\n",
      "     ----------------------------             2.5/3.5 MB 6.3 MB/s eta 0:00:01\n",
      "     --------------------------------         2.8/3.5 MB 6.3 MB/s eta 0:00:01\n",
      "     -----------------------------------      3.1/3.5 MB 6.5 MB/s eta 0:00:01\n",
      "     --------------------------------------   3.3/3.5 MB 6.4 MB/s eta 0:00:01\n",
      "     ---------------------------------------- 3.5/3.5 MB 6.1 MB/s eta 0:00:00\n",
      "Collecting python-docx>=0.8.10 (from pdf2docx)\n",
      "  Downloading python-docx-0.8.11.tar.gz (5.6 MB)\n",
      "                                              0.0/5.6 MB ? eta -:--:--\n",
      "     ---                                      0.5/5.6 MB 9.8 MB/s eta 0:00:01\n",
      "     ------                                   0.9/5.6 MB 9.7 MB/s eta 0:00:01\n",
      "     ---------                                1.3/5.6 MB 10.2 MB/s eta 0:00:01\n",
      "     -----------                              1.7/5.6 MB 9.6 MB/s eta 0:00:01\n",
      "     --------------                           2.1/5.6 MB 9.4 MB/s eta 0:00:01\n",
      "     -----------------                        2.4/5.6 MB 9.0 MB/s eta 0:00:01\n",
      "     -------------------                      2.7/5.6 MB 8.7 MB/s eta 0:00:01\n",
      "     -----------------------                  3.3/5.6 MB 9.4 MB/s eta 0:00:01\n",
      "     --------------------------               3.7/5.6 MB 9.3 MB/s eta 0:00:01\n",
      "     ----------------------------             4.0/5.6 MB 9.3 MB/s eta 0:00:01\n",
      "     --------------------------------         4.5/5.6 MB 8.9 MB/s eta 0:00:01\n",
      "     ----------------------------------       4.9/5.6 MB 9.1 MB/s eta 0:00:01\n",
      "     ---------------------------------------  5.5/5.6 MB 9.5 MB/s eta 0:00:01\n",
      "     ---------------------------------------  5.6/5.6 MB 9.1 MB/s eta 0:00:01\n",
      "     ---------------------------------------  5.6/5.6 MB 9.1 MB/s eta 0:00:01\n",
      "     ---------------------------------------- 5.6/5.6 MB 8.3 MB/s eta 0:00:00\n",
      "  Preparing metadata (setup.py): started\n",
      "  Preparing metadata (setup.py): finished with status 'done'\n",
      "Requirement already satisfied: fonttools>=4.24.0 in c:\\users\\yssa\\appdata\\roaming\\python\\python310\\site-packages (from pdf2docx) (4.39.3)\n",
      "Requirement already satisfied: numpy>=1.17.2 in c:\\users\\yssa\\appdata\\roaming\\python\\python310\\site-packages (from pdf2docx) (1.23.5)\n",
      "Requirement already satisfied: opencv-python>=4.5 in c:\\users\\yssa\\appdata\\roaming\\python\\python310\\site-packages (from pdf2docx) (4.7.0.72)\n",
      "Collecting fire>=0.3.0 (from pdf2docx)\n",
      "  Downloading fire-0.5.0.tar.gz (88 kB)\n",
      "                                              0.0/88.3 kB ? eta -:--:--\n",
      "     ---------------------------------------- 88.3/88.3 kB 5.2 MB/s eta 0:00:00\n",
      "  Preparing metadata (setup.py): started\n",
      "  Preparing metadata (setup.py): finished with status 'done'\n",
      "Requirement already satisfied: six in c:\\users\\yssa\\appdata\\roaming\\python\\python310\\site-packages (from fire>=0.3.0->pdf2docx) (1.16.0)\n",
      "Requirement already satisfied: termcolor in c:\\users\\yssa\\appdata\\roaming\\python\\python310\\site-packages (from fire>=0.3.0->pdf2docx) (2.2.0)\n",
      "Collecting PyMuPDFb==1.23.3 (from PyMuPDF>=1.19.0->pdf2docx)\n",
      "  Downloading PyMuPDFb-1.23.3-py3-none-win_amd64.whl (24.4 MB)\n",
      "                                              0.0/24.4 MB ? eta -:--:--\n",
      "                                              0.6/24.4 MB 18.5 MB/s eta 0:00:02\n",
      "     --                                       1.2/24.4 MB 15.8 MB/s eta 0:00:02\n",
      "     --                                       1.5/24.4 MB 16.3 MB/s eta 0:00:02\n",
      "     ---                                      2.0/24.4 MB 12.5 MB/s eta 0:00:02\n",
      "     ---                                      2.4/24.4 MB 12.6 MB/s eta 0:00:02\n",
      "     ----                                     2.9/24.4 MB 13.3 MB/s eta 0:00:02\n",
      "     -----                                    3.5/24.4 MB 13.2 MB/s eta 0:00:02\n",
      "     ------                                   4.1/24.4 MB 13.1 MB/s eta 0:00:02\n",
      "     -------                                  4.7/24.4 MB 13.0 MB/s eta 0:00:02\n",
      "     --------                                 5.2/24.4 MB 13.3 MB/s eta 0:00:02\n",
      "     ---------                                5.7/24.4 MB 13.0 MB/s eta 0:00:02\n",
      "     ----------                               6.3/24.4 MB 12.9 MB/s eta 0:00:02\n",
      "     -----------                              6.7/24.4 MB 12.7 MB/s eta 0:00:02\n",
      "     -----------                              7.3/24.4 MB 13.0 MB/s eta 0:00:02\n",
      "     -------------                            7.9/24.4 MB 13.0 MB/s eta 0:00:02\n",
      "     -------------                            8.2/24.4 MB 12.2 MB/s eta 0:00:02\n",
      "     --------------                           8.9/24.4 MB 12.4 MB/s eta 0:00:02\n",
      "     --------------                           9.1/24.4 MB 12.1 MB/s eta 0:00:02\n",
      "     ---------------                          9.6/24.4 MB 12.1 MB/s eta 0:00:02\n",
      "     ----------------                        10.1/24.4 MB 12.2 MB/s eta 0:00:02\n",
      "     ----------------                        10.3/24.4 MB 11.7 MB/s eta 0:00:02\n",
      "     -----------------                       10.9/24.4 MB 11.7 MB/s eta 0:00:02\n",
      "     ------------------                      11.3/24.4 MB 11.7 MB/s eta 0:00:02\n",
      "     ------------------                      11.7/24.4 MB 11.3 MB/s eta 0:00:02\n",
      "     -------------------                     12.3/24.4 MB 11.5 MB/s eta 0:00:02\n",
      "     --------------------                    12.9/24.4 MB 11.7 MB/s eta 0:00:01\n",
      "     --------------------                    13.1/24.4 MB 11.3 MB/s eta 0:00:02\n",
      "     ---------------------                   13.6/24.4 MB 11.5 MB/s eta 0:00:01\n",
      "     ----------------------                  14.2/24.4 MB 11.3 MB/s eta 0:00:01\n",
      "     ----------------------                  14.4/24.4 MB 11.3 MB/s eta 0:00:01\n",
      "     ------------------------                15.1/24.4 MB 11.3 MB/s eta 0:00:01\n",
      "     ------------------------                15.6/24.4 MB 11.7 MB/s eta 0:00:01\n",
      "     -------------------------               16.3/24.4 MB 11.5 MB/s eta 0:00:01\n",
      "     --------------------------              16.8/24.4 MB 11.5 MB/s eta 0:00:01\n",
      "     ---------------------------             17.0/24.4 MB 11.3 MB/s eta 0:00:01\n",
      "     ----------------------------            17.8/24.4 MB 11.3 MB/s eta 0:00:01\n",
      "     -----------------------------           18.3/24.4 MB 11.5 MB/s eta 0:00:01\n",
      "     -----------------------------           18.7/24.4 MB 11.7 MB/s eta 0:00:01\n",
      "     ------------------------------          19.0/24.4 MB 11.1 MB/s eta 0:00:01\n",
      "     -------------------------------         19.5/24.4 MB 11.7 MB/s eta 0:00:01\n",
      "     --------------------------------        20.3/24.4 MB 11.5 MB/s eta 0:00:01\n",
      "     --------------------------------        20.7/24.4 MB 12.1 MB/s eta 0:00:01\n",
      "     ----------------------------------      21.3/24.4 MB 11.9 MB/s eta 0:00:01\n",
      "     ----------------------------------      21.9/24.4 MB 11.9 MB/s eta 0:00:01\n",
      "     -----------------------------------     22.5/24.4 MB 12.1 MB/s eta 0:00:01\n",
      "     ------------------------------------    22.9/24.4 MB 11.7 MB/s eta 0:00:01\n",
      "     -------------------------------------   23.8/24.4 MB 12.1 MB/s eta 0:00:01\n",
      "     --------------------------------------  23.9/24.4 MB 11.7 MB/s eta 0:00:01\n",
      "     --------------------------------------  24.4/24.4 MB 11.7 MB/s eta 0:00:01\n",
      "     --------------------------------------  24.4/24.4 MB 11.7 MB/s eta 0:00:01\n",
      "     --------------------------------------  24.4/24.4 MB 11.7 MB/s eta 0:00:01\n",
      "     --------------------------------------  24.4/24.4 MB 11.7 MB/s eta 0:00:01\n",
      "     ---------------------------------------- 24.4/24.4 MB 9.6 MB/s eta 0:00:00\n",
      "Collecting lxml>=2.3.2 (from python-docx>=0.8.10->pdf2docx)\n",
      "  Downloading lxml-4.9.3-cp310-cp310-win_amd64.whl (3.8 MB)\n",
      "                                              0.0/3.8 MB ? eta -:--:--\n",
      "     -----                                    0.6/3.8 MB 11.8 MB/s eta 0:00:01\n",
      "     -----------                              1.1/3.8 MB 14.3 MB/s eta 0:00:01\n",
      "     -----------------                        1.6/3.8 MB 12.9 MB/s eta 0:00:01\n",
      "     ------------------------                 2.4/3.8 MB 13.6 MB/s eta 0:00:01\n",
      "     --------------------------------         3.0/3.8 MB 13.8 MB/s eta 0:00:01\n",
      "     ---------------------------------------  3.7/3.8 MB 14.1 MB/s eta 0:00:01\n",
      "     ---------------------------------------- 3.8/3.8 MB 12.1 MB/s eta 0:00:00\n",
      "Building wheels for collected packages: fire, python-docx\n",
      "  Building wheel for fire (setup.py): started\n",
      "  Building wheel for fire (setup.py): finished with status 'done'\n",
      "  Created wheel for fire: filename=fire-0.5.0-py2.py3-none-any.whl size=116948 sha256=2d6593ed9fc85d6edbc7eb03bc5f76ae00d11903be5cdad79dc637e14c024618\n",
      "  Stored in directory: c:\\users\\yssa\\appdata\\local\\pip\\cache\\wheels\\90\\d4\\f7\\9404e5db0116bd4d43e5666eaa3e70ab53723e1e3ea40c9a95\n",
      "  Building wheel for python-docx (setup.py): started\n",
      "  Building wheel for python-docx (setup.py): finished with status 'done'\n",
      "  Created wheel for python-docx: filename=python_docx-0.8.11-py3-none-any.whl size=184519 sha256=0478b06b122e031ab9c7f13a3caee1df90ddc8217da6983e39882ec3be93779a\n",
      "  Stored in directory: c:\\users\\yssa\\appdata\\local\\pip\\cache\\wheels\\80\\27\\06\\837436d4c3bd989b957a91679966f207bfd71d358d63a8194d\n",
      "Successfully built fire python-docx\n",
      "Installing collected packages: PyMuPDFb, lxml, fire, python-docx, PyMuPDF, pdf2docx\n",
      "Successfully installed PyMuPDF-1.23.3 PyMuPDFb-1.23.3 fire-0.5.0 lxml-4.9.3 pdf2docx-0.5.6 python-docx-0.8.11\n"
     ]
    }
   ],
   "source": [
    "pip install pdf2docx"
   ]
  },
  {
   "cell_type": "code",
   "execution_count": 7,
   "metadata": {},
   "outputs": [
    {
     "name": "stderr",
     "output_type": "stream",
     "text": [
      "[INFO] Start to convert sample.pdf\n",
      "[INFO] \u001b[1;36m[1/4] Opening document...\u001b[0m\n",
      "[INFO] \u001b[1;36m[2/4] Analyzing document...\u001b[0m\n",
      "[INFO] \u001b[1;36m[3/4] Parsing pages...\u001b[0m\n",
      "[INFO] (1/1) Page 1\n",
      "[INFO] \u001b[1;36m[4/4] Creating pages...\u001b[0m\n",
      "[INFO] (1/1) Page 1\n",
      "[INFO] Terminated in 0.08s.\n"
     ]
    }
   ],
   "source": [
    "from pdf2docx import Converter\n",
    "\n",
    "#Convert PDF to docx\n",
    "cv = Converter('sample.pdf')\n",
    "cv.convert('', start=0, end=None)\n",
    "cv.close()"
   ]
  },
  {
   "cell_type": "markdown",
   "metadata": {},
   "source": [
    "__Creating a New PDF__"
   ]
  },
  {
   "cell_type": "code",
   "execution_count": 8,
   "metadata": {},
   "outputs": [
    {
     "name": "stdout",
     "output_type": "stream",
     "text": [
      "Defaulting to user installation because normal site-packages is not writeable\n",
      "Collecting reportlab\n",
      "  Downloading reportlab-4.0.4-py3-none-any.whl (1.9 MB)\n",
      "                                              0.0/1.9 MB ? eta -:--:--\n",
      "                                              0.0/1.9 MB 1.3 MB/s eta 0:00:02\n",
      "     --                                       0.1/1.9 MB 1.8 MB/s eta 0:00:01\n",
      "     -----                                    0.3/1.9 MB 2.5 MB/s eta 0:00:01\n",
      "     ----------                               0.5/1.9 MB 3.1 MB/s eta 0:00:01\n",
      "     -----------------                        0.8/1.9 MB 4.4 MB/s eta 0:00:01\n",
      "     ---------------------                    1.0/1.9 MB 4.4 MB/s eta 0:00:01\n",
      "     ---------------------------              1.3/1.9 MB 4.9 MB/s eta 0:00:01\n",
      "     -----------------------------------      1.7/1.9 MB 5.5 MB/s eta 0:00:01\n",
      "     ---------------------------------------- 1.9/1.9 MB 5.4 MB/s eta 0:00:00\n",
      "Requirement already satisfied: pillow>=9.0.0 in c:\\users\\yssa\\appdata\\roaming\\python\\python310\\site-packages (from reportlab) (9.5.0)\n",
      "Installing collected packages: reportlab\n",
      "Successfully installed reportlab-4.0.4\n",
      "Note: you may need to restart the kernel to use updated packages.\n"
     ]
    },
    {
     "name": "stderr",
     "output_type": "stream",
     "text": [
      "\n",
      "[notice] A new release of pip is available: 23.1.2 -> 23.2.1\n",
      "[notice] To update, run: python.exe -m pip install --upgrade pip\n"
     ]
    }
   ],
   "source": [
    "pip install reportlab"
   ]
  },
  {
   "cell_type": "code",
   "execution_count": null,
   "metadata": {},
   "outputs": [],
   "source": [
    "from reportlab.pdfgen.canvas import Canvas\n",
    "\n",
    "#Create a new PDF file\n",
    "c = Canvas('sample.pdf')\n",
    "\n",
    "#Add text and shapes to the PDF\n",
    "c.drawString(100, 750, \"Hey! How are you?\")\n",
    "\n",
    "#Save the PDF\n",
    "c.save()"
   ]
  }
 ],
 "metadata": {
  "kernelspec": {
   "display_name": "Python 3",
   "language": "python",
   "name": "python3"
  },
  "language_info": {
   "codemirror_mode": {
    "name": "ipython",
    "version": 3
   },
   "file_extension": ".py",
   "mimetype": "text/x-python",
   "name": "python",
   "nbconvert_exporter": "python",
   "pygments_lexer": "ipython3",
   "version": "3.10.8"
  },
  "orig_nbformat": 4
 },
 "nbformat": 4,
 "nbformat_minor": 2
}
